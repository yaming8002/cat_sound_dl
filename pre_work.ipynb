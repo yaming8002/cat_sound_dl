{
  "nbformat": 4,
  "nbformat_minor": 0,
  "metadata": {
    "kernelspec": {
      "display_name": "Python 3",
      "language": "python",
      "name": "python3"
    },
    "language_info": {
      "codemirror_mode": {
        "name": "ipython",
        "version": 3
      },
      "file_extension": ".py",
      "mimetype": "text/x-python",
      "name": "python",
      "nbconvert_exporter": "python",
      "pygments_lexer": "ipython3",
      "version": "3.8.3"
    },
    "colab": {
      "name": "pre_work.ipynb",
      "provenance": [],
      "toc_visible": true,
      "include_colab_link": true
    }
  },
  "cells": [
    {
      "cell_type": "markdown",
      "metadata": {
        "id": "view-in-github",
        "colab_type": "text"
      },
      "source": [
        "<a href=\"https://colab.research.google.com/github/yaming8002/cat_sound_dl/blob/master/pre_work.ipynb\" target=\"_parent\"><img src=\"https://colab.research.google.com/assets/colab-badge.svg\" alt=\"Open In Colab\"/></a>"
      ]
    },
    {
      "cell_type": "markdown",
      "metadata": {
        "id": "Ddrzj-DijlZw",
        "colab_type": "text"
      },
      "source": [
        "# 環境設定\n"
      ]
    },
    {
      "cell_type": "code",
      "metadata": {
        "id": "ihIgARKRS_H7",
        "colab_type": "code",
        "colab": {
          "base_uri": "https://localhost:8080/",
          "height": 130
        },
        "outputId": "8a48de16-5adf-4f9b-a3bc-6c00b426df72"
      },
      "source": [
        "from google.colab import drive\n",
        "drive.mount('/content/drive')"
      ],
      "execution_count": 4,
      "outputs": [
        {
          "output_type": "stream",
          "text": [
            "Go to this URL in a browser: https://accounts.google.com/o/oauth2/auth?client_id=947318989803-6bn6qk8qdgf4n4g3pfee6491hc0brc4i.apps.googleusercontent.com&redirect_uri=urn%3aietf%3awg%3aoauth%3a2.0%3aoob&scope=email%20https%3a%2f%2fwww.googleapis.com%2fauth%2fdocs.test%20https%3a%2f%2fwww.googleapis.com%2fauth%2fdrive%20https%3a%2f%2fwww.googleapis.com%2fauth%2fdrive.photos.readonly%20https%3a%2f%2fwww.googleapis.com%2fauth%2fpeopleapi.readonly&response_type=code\n",
            "\n",
            "Enter your authorization code:\n",
            "··········\n",
            "Mounted at /content/drive\n"
          ],
          "name": "stdout"
        }
      ]
    },
    {
      "cell_type": "code",
      "metadata": {
        "id": "Yk-X7OBnsBZy",
        "colab_type": "code",
        "colab": {
          "base_uri": "https://localhost:8080/",
          "height": 278
        },
        "outputId": "cbf87c06-9389-46db-a0ca-9f1b53f605a1"
      },
      "source": [
        "import os\n",
        "soundlist = os.listdir('/content/drive/My Drive/test_sound')\n",
        "soundlist"
      ],
      "execution_count": 5,
      "outputs": [
        {
          "output_type": "execute_result",
          "data": {
            "text/plain": [
              "['小貓發情了！碎花要變少女了嗎丨麻糬貓奴貓咪日常 001.wav',\n",
              " '来听猫叔打呼噜吧, 非常的治愈哦 标清.wav',\n",
              " '貓打架-專業版.wav',\n",
              " '貓(喵)老大打架_.wav',\n",
              " '噓聲.wav',\n",
              " '风声_爱给网_aigei_com.wav',\n",
              " 'Cat asking for help.wav',\n",
              " 'Cat Purring Sound Effect!.wav',\n",
              " '小猫咪的叫声听不厌啊，屡听不爽.wav',\n",
              " '藍貓-發情K.wav',\n",
              " 'box',\n",
              " 'box1',\n",
              " 'test',\n",
              " 'test2']"
            ]
          },
          "metadata": {
            "tags": []
          },
          "execution_count": 5
        }
      ]
    },
    {
      "cell_type": "code",
      "metadata": {
        "id": "yqxQ9td-sTE2",
        "colab_type": "code",
        "colab": {
          "base_uri": "https://localhost:8080/",
          "height": 316
        },
        "outputId": "a9a65aeb-2eb7-4dca-8bb7-e391751be2cf"
      },
      "source": [
        "pip install pydub librosa"
      ],
      "execution_count": 6,
      "outputs": [
        {
          "output_type": "stream",
          "text": [
            "Collecting pydub\n",
            "  Downloading https://files.pythonhosted.org/packages/7b/d1/fbfa79371a8cd9bb15c2e3c480d7e6e340ed5cc55005174e16f48418333a/pydub-0.24.1-py2.py3-none-any.whl\n",
            "Requirement already satisfied: librosa in /usr/local/lib/python3.6/dist-packages (0.6.3)\n",
            "Requirement already satisfied: audioread>=2.0.0 in /usr/local/lib/python3.6/dist-packages (from librosa) (2.1.8)\n",
            "Requirement already satisfied: six>=1.3 in /usr/local/lib/python3.6/dist-packages (from librosa) (1.15.0)\n",
            "Requirement already satisfied: decorator>=3.0.0 in /usr/local/lib/python3.6/dist-packages (from librosa) (4.4.2)\n",
            "Requirement already satisfied: scipy>=1.0.0 in /usr/local/lib/python3.6/dist-packages (from librosa) (1.4.1)\n",
            "Requirement already satisfied: numba>=0.38.0 in /usr/local/lib/python3.6/dist-packages (from librosa) (0.48.0)\n",
            "Requirement already satisfied: numpy>=1.8.0 in /usr/local/lib/python3.6/dist-packages (from librosa) (1.18.5)\n",
            "Requirement already satisfied: joblib>=0.12 in /usr/local/lib/python3.6/dist-packages (from librosa) (0.16.0)\n",
            "Requirement already satisfied: resampy>=0.2.0 in /usr/local/lib/python3.6/dist-packages (from librosa) (0.2.2)\n",
            "Requirement already satisfied: scikit-learn!=0.19.0,>=0.14.0 in /usr/local/lib/python3.6/dist-packages (from librosa) (0.22.2.post1)\n",
            "Requirement already satisfied: llvmlite<0.32.0,>=0.31.0dev0 in /usr/local/lib/python3.6/dist-packages (from numba>=0.38.0->librosa) (0.31.0)\n",
            "Requirement already satisfied: setuptools in /usr/local/lib/python3.6/dist-packages (from numba>=0.38.0->librosa) (49.2.0)\n",
            "Installing collected packages: pydub\n",
            "Successfully installed pydub-0.24.1\n"
          ],
          "name": "stdout"
        }
      ]
    },
    {
      "cell_type": "code",
      "metadata": {
        "id": "uxH9dr46jq0e",
        "colab_type": "code",
        "colab": {}
      },
      "source": [
        ""
      ],
      "execution_count": null,
      "outputs": []
    },
    {
      "cell_type": "markdown",
      "metadata": {
        "id": "JFMYXMNajCei",
        "colab_type": "text"
      },
      "source": [
        "# 音檔靜音切割方法"
      ]
    },
    {
      "cell_type": "code",
      "metadata": {
        "id": "1Pes5f1rjCej",
        "colab_type": "code",
        "colab": {}
      },
      "source": [
        "from pydub.silence import split_on_silence\n",
        "import os\n",
        "import librosa\n",
        "import wave\n",
        "import numpy as np\n",
        "import pylab as plt\n",
        "from pydub import AudioSegment\n",
        "class mute_cut:\n",
        "  # 依照聲音檔中的靜音來做切割\n",
        "\n",
        "  def __init__(self, path= \"\" ):\n",
        "      self.isfile = False\n",
        "      self.have_wav = False\n",
        "      self.path = path\n",
        "      if os.path.isfile(path ):\n",
        "        # 如果是檔案路徑\n",
        "        # 將檔案讀近來來做切割\n",
        "        self.isfile = True\n",
        "        if \".wav\" in path:\n",
        "          self.data = self.sound_split( path )\n",
        "          self.onename = (path.split(\"/\")[-1]).split(\".\")[0]\n",
        "          self.have_wav = True\n",
        "        else:\n",
        "          print(\"此路徑的檔案不是wav檔\")\n",
        "      elif os.path.isdir(path ):\n",
        "        # 如果是資料夾路徑\n",
        "        # 紀錄底下所有資料名稱\n",
        "        self.filename=[ x for x in os.listdir(path) if \".wav\" in x]\n",
        "        if len(self.filename) == 0:\n",
        "          print(\"此資料夾沒有wav檔\")\n",
        "        else:\n",
        "          self.have_wav = True\n",
        "      \n",
        "\n",
        "  def sound_split(self,filepath):\n",
        "      sound = AudioSegment.from_wav(filepath)\n",
        "      dBFS = sound.dBFS # 指定最大聲音\n",
        "      # print(dBFS)\n",
        "      chunks = split_on_silence(sound, \n",
        "          min_silence_len = 1000,\n",
        "          silence_thresh = dBFS-16)\n",
        "      return chunks\n",
        "\n",
        "  def output_cutting(self,path_to=\"\"):\n",
        "      if not self.have_wav :\n",
        "        print(\"沒有正確的資料進行分割\")\n",
        "        return None\n",
        "      if path_to == \"\":\n",
        "        path_to = \".\"\n",
        "      elif path_to != \"\" and not os.path.exists(path_to): \n",
        "        # 判斷目錄是否存在，不存在就建立檔案\n",
        "        os.makedirs(path_to)\n",
        "        \n",
        "      if self.isfile :\n",
        "        # 檔案路徑處理\n",
        "        for i in range(len(self.data)):\n",
        "          self.data[i].export( f\"{path_to}/{self.onename}_{i}.wav\", format=\"wav\")\n",
        "\n",
        "      else:\n",
        "        # 資夾路徑的處理\n",
        "        for i in range(len(self.filename)):\n",
        "          data = self.sound_split( self.path+\"/\"+self.filename[i])\n",
        "          name = (self.filename[i].split(\"/\")[-1]).split(\".\")[0]\n",
        "          for j in range(len(data)):\n",
        "            data[j].export( f\"{path_to}/{name}_{j}.wav\", format=\"wav\")\n",
        "\n"
      ],
      "execution_count": null,
      "outputs": []
    },
    {
      "cell_type": "markdown",
      "metadata": {
        "id": "v18Fi2VpvOH5",
        "colab_type": "text"
      },
      "source": [
        "> 測試\n"
      ]
    },
    {
      "cell_type": "code",
      "metadata": {
        "id": "4d4SFv3jscaN",
        "colab_type": "code",
        "colab": {}
      },
      "source": [
        "temp  = mute_cut(\"/content/drive/My Drive/test_sound/貓(喵)老大打架_.wav\")\n",
        "temp.output_cutting(\"/content/drive/My Drive/test_sound/test\")"
      ],
      "execution_count": null,
      "outputs": []
    },
    {
      "cell_type": "markdown",
      "metadata": {
        "id": "qd65dAsdjCez",
        "colab_type": "text"
      },
      "source": [
        "# 音檔固定長度切割"
      ]
    },
    {
      "cell_type": "code",
      "metadata": {
        "id": "5ZSWRRaujCez",
        "colab_type": "code",
        "colab": {}
      },
      "source": [
        "from pydub.silence import split_on_silence\n",
        "import os\n",
        "import librosa\n",
        "import wave\n",
        "import numpy as np\n",
        "import pylab as plt\n",
        "from pydub import AudioSegment\n",
        "\n",
        "def create_data(path_from,path_to,item_len = 2000):\n",
        "    if path_from.endswith('.wav'):# 輸入的資料來源如果是.wav\n",
        "        files = [path_from]\n",
        "    else: # 輸入的資料來源如果是資料夾\n",
        "        files = os.listdir(path_from)\n",
        "        files = [f\"{path_from}/{ f}\" for f in files if f.endswith('.wav')]\n",
        "    if  not os.path.exists(path_to): # 判斷目錄是否存在，不存在就建立檔案\n",
        "        os.mkdir(path_to)\n",
        "    \n",
        "    for file in files:\n",
        "        file_name = \"\".join((file.split('/').pop()).split(\"_\")[:3])\n",
        "        file_name = file_name.split('.')[0]\n",
        "        audio = AudioSegment.from_file(file)\n",
        "        audio_len = len(audio)\n",
        "\n",
        "        steps = audio_len // item_len+1\n",
        "        for step in range(steps):\n",
        "            item_audio = audio[step * item_len:( (step + 1) * item_len if (step + 1) * item_len < audio_len else audio_len )]\n",
        "            save_audio = item_audio + AudioSegment.silent(item_len - len(item_audio))\n",
        "            new_path = f\"{path_to}/{file_name}_{step}.wav\"\n",
        "            save_audio.export( new_path)\n",
        "    \n",
        "    "
      ],
      "execution_count": 7,
      "outputs": []
    },
    {
      "cell_type": "markdown",
      "metadata": {
        "id": "0CXB5ucnylfQ",
        "colab_type": "text"
      },
      "source": [
        ">測試"
      ]
    },
    {
      "cell_type": "code",
      "metadata": {
        "id": "28pTi9DWjCe7",
        "colab_type": "code",
        "colab": {}
      },
      "source": [
        "path_from = \"/content/drive/My Drive/test_sound/貓(喵)老大打架_.wav\"\n",
        "path_to = \"/content/drive/My Drive/test_sound/test2\"\n",
        "create_data(path_from , path_to)"
      ],
      "execution_count": null,
      "outputs": []
    },
    {
      "cell_type": "markdown",
      "metadata": {
        "id": "eom4a0iDBHAD",
        "colab_type": "text"
      },
      "source": [
        "# 聲音資料整合成npy檔"
      ]
    },
    {
      "cell_type": "markdown",
      "metadata": {
        "id": "mcrVxM6JIXxL",
        "colab_type": "text"
      },
      "source": [
        "練習資料&驗證資料"
      ]
    },
    {
      "cell_type": "code",
      "metadata": {
        "id": "xdvAVzk2I_7d",
        "colab_type": "code",
        "colab": {}
      },
      "source": [
        "import pandas as pd"
      ],
      "execution_count": 3,
      "outputs": []
    },
    {
      "cell_type": "code",
      "metadata": {
        "id": "IKm48dV0_b-b",
        "colab_type": "code",
        "colab": {
          "base_uri": "https://localhost:8080/",
          "height": 110
        },
        "outputId": "73026475-e586-4ed5-e72c-89cb05fa7d7c"
      },
      "source": [
        "from pydub import AudioSegment\n",
        "import os\n",
        "import numpy as np\n",
        "import pandas as pd\n",
        "import scipy.io.wavfile as wav\n",
        "import random\n",
        "import librosa\n",
        "\n",
        "\n",
        "x_train_o=[]\n",
        "y_train_o=[]\n",
        "x_ver_o=[]\n",
        "y_ver_o=[]\n",
        "path = \"/content/drive/My Drive/all_data_used\"\n",
        "list_sigle =['none', 'purring', 'cat_talk_cats', 'cat_call_persion', 'caveat']\n",
        "used_data=[] # 存放用過的檔名\n",
        "\n",
        "all_data_folder_name = [f\"{item}\" for item in os.listdir(path) if item in list_sigle  ]\n",
        "for folder_name in all_data_folder_name:\n",
        "  # 一個資料夾(類別)隨機選400個出來\n",
        "  file_name = os.listdir(f\"{path}/{folder_name}\")\n",
        "  data_temp = [f\"{path}/{folder_name}/{item}\" for item in file_name]\n",
        "  print(folder_name)\n",
        "  all_data_name =random.sample(data_temp, 400)\n",
        "  # 記錄用過的檔案\n",
        "  choise_name = [x.split(\"/\")[-1] for x in all_data_name ]\n",
        "  used_data += choise_name\n",
        "\n",
        "  count = 0\n",
        "  for item in all_data_name: \n",
        "    wave, sr = librosa.load(item, mono=True, sr=None)\n",
        "    zero_np = np.zeros(5)\n",
        "    zero_np[list_sigle.index(folder_name)]=1\n",
        "    # 抽取一部分當作驗證資料 9:1\n",
        "    if count % 10==0:\n",
        "        x_ver_o.append([wave])\n",
        "        y_ver_o.append(zero_np)\n",
        "    else:\n",
        "        x_train_o.append([wave])\n",
        "        y_train_o.append(zero_np)\n",
        "    count +=1\n",
        "\n",
        "x_train_o = np.array(x_train_o)\n",
        "y_train_o = np.array(y_train_o)\n",
        "x_ver_o = np.array(x_ver_o)\n",
        "y_ver_o = np.array(y_ver_o)\n",
        "\n",
        "np.save(f'{path}/x_train_o.npy',x_train_o)\n",
        "np.save(f'{path}/y_train_o.npy',y_train_o)\n",
        "np.save(f'{path}/x_verification_o.npy',x_ver_o)\n",
        "np.save(f'{path}/y_verification_o.npy',y_ver_o)\n",
        "\n",
        "df = pd.DataFrame({\"used_name\": used_data})\n",
        "df.to_csv(f'{path}/used_data.csv')\n"
      ],
      "execution_count": 14,
      "outputs": [
        {
          "output_type": "stream",
          "text": [
            "none\n",
            "caveat\n",
            "cat_talk_cats\n",
            "cat_call_persion\n",
            "purring\n"
          ],
          "name": "stdout"
        }
      ]
    },
    {
      "cell_type": "markdown",
      "metadata": {
        "id": "UP42o1OlXuXc",
        "colab_type": "text"
      },
      "source": [
        ">測試資料"
      ]
    },
    {
      "cell_type": "code",
      "metadata": {
        "id": "rq_CnEBsXyLA",
        "colab_type": "code",
        "colab": {
          "base_uri": "https://localhost:8080/",
          "height": 222
        },
        "outputId": "57cf261e-ea9f-47d5-b85c-f195d6e7ff44"
      },
      "source": [
        "x_test_o=[]\n",
        "y_test_o=[]\n",
        "\n",
        "all_data_folder_name = [f\"{item}\" for item in os.listdir(path) if item in list_sigle  ]\n",
        "print()\n",
        "for folder_name in all_data_folder_name:\n",
        "  # 一個資料夾(類別)隨機選400個出來\n",
        "  file_name = os.listdir(f\"{path}/{folder_name}\")\n",
        "  data_temp = [f\"{path}/{folder_name}/{item}\" for item in file_name if item not in used_data ]\n",
        "  print(folder_name)\n",
        "  print(len(data_temp ))\n",
        "  all_data_name =random.sample(data_temp, 20)\n",
        "  # 記錄用過的檔案\n",
        "  used_data += all_data_name\n",
        "\n",
        "  for item in all_data_name: \n",
        "    wave, sr = librosa.load(item, mono=True, sr=None)\n",
        "    zero_np = np.zeros(5)\n",
        "    zero_np[list_sigle.index(folder_name)]=1\n",
        "\n",
        "    x_test_o.append([wave])\n",
        "    y_test_o.append(zero_np)\n",
        "\n",
        "x_test_o = np.array(x_test_o)\n",
        "y_test_o = np.array(y_test_o)\n",
        "np.save(f'{path}/x_test_o.npy',x_test_o)\n",
        "np.save(f'{path}/y_test_o.npy',y_test_o)"
      ],
      "execution_count": 15,
      "outputs": [
        {
          "output_type": "stream",
          "text": [
            "\n",
            "none\n",
            "641\n",
            "caveat\n",
            "194\n",
            "cat_talk_cats\n",
            "132\n",
            "cat_call_persion\n",
            "21\n",
            "purring\n",
            "161\n"
          ],
          "name": "stdout"
        }
      ]
    },
    {
      "cell_type": "markdown",
      "metadata": {
        "id": "KjeG0Wx4IebT",
        "colab_type": "text"
      },
      "source": [
        "後續要混的雜訊"
      ]
    },
    {
      "cell_type": "code",
      "metadata": {
        "id": "YgM6GzNcNudZ",
        "colab_type": "code",
        "colab": {}
      },
      "source": [
        "from pydub import AudioSegment\n",
        "import os\n",
        "import numpy as np\n",
        "import scipy.io.wavfile as wav\n",
        "import random\n",
        "import librosa\n",
        "import gc\n",
        "to_niose_data =[]\n",
        "file_name = os.listdir(f\"{path}/none\")\n",
        "# 取出其他雜音，去掉使用過的\n",
        "data_temp = [f\"{path}/none/{item}\" for item in os.listdir(f\"{path}/none\") if item not in used_data ]\n",
        "\n",
        "for item in data_temp:\n",
        "  wave, sr = librosa.load(item, mono=True, sr=None)\n",
        "  to_niose_data.append([wave])\n",
        "to_niose_data = np.array(to_niose_data)\n",
        "np.save(f'{path}/to_niose_data.npy',to_niose_data)"
      ],
      "execution_count": 17,
      "outputs": []
    },
    {
      "cell_type": "code",
      "metadata": {
        "id": "XOmIaywdZqHH",
        "colab_type": "code",
        "colab": {}
      },
      "source": [
        ""
      ],
      "execution_count": null,
      "outputs": []
    }
  ]
}