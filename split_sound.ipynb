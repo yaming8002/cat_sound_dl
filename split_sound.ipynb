{
  "nbformat": 4,
  "nbformat_minor": 0,
  "metadata": {
    "kernelspec": {
      "display_name": "Python 3",
      "language": "python",
      "name": "python3"
    },
    "language_info": {
      "codemirror_mode": {
        "name": "ipython",
        "version": 3
      },
      "file_extension": ".py",
      "mimetype": "text/x-python",
      "name": "python",
      "nbconvert_exporter": "python",
      "pygments_lexer": "ipython3",
      "version": "3.8.3"
    },
    "colab": {
      "name": "split_sound.ipynb",
      "provenance": [],
      "toc_visible": true
    }
  },
  "cells": [
    {
      "cell_type": "markdown",
      "metadata": {
        "id": "Ddrzj-DijlZw",
        "colab_type": "text"
      },
      "source": [
        "# 環境設定\n"
      ]
    },
    {
      "cell_type": "code",
      "metadata": {
        "id": "ihIgARKRS_H7",
        "colab_type": "code",
        "colab": {}
      },
      "source": [
        "from google.colab import drive\n",
        "drive.mount('/content/drive')"
      ],
      "execution_count": null,
      "outputs": []
    },
    {
      "cell_type": "code",
      "metadata": {
        "id": "Yk-X7OBnsBZy",
        "colab_type": "code",
        "colab": {}
      },
      "source": [
        "import os\n",
        "soundlist = os.listdir('/content/drive/My Drive/test_sound')\n",
        "soundlist"
      ],
      "execution_count": null,
      "outputs": []
    },
    {
      "cell_type": "code",
      "metadata": {
        "id": "yqxQ9td-sTE2",
        "colab_type": "code",
        "colab": {}
      },
      "source": [
        "pip install pydub librosa"
      ],
      "execution_count": null,
      "outputs": []
    },
    {
      "cell_type": "code",
      "metadata": {
        "id": "uxH9dr46jq0e",
        "colab_type": "code",
        "colab": {}
      },
      "source": [
        "from pydub.silence import split_on_silence\n",
        "import os\n",
        "import librosa\n",
        "import wave\n",
        "import numpy as np\n",
        "import pylab as plt\n",
        "from pydub import AudioSegment"
      ],
      "execution_count": 8,
      "outputs": []
    },
    {
      "cell_type": "markdown",
      "metadata": {
        "id": "JFMYXMNajCei",
        "colab_type": "text"
      },
      "source": [
        "# 音檔靜音切割方法"
      ]
    },
    {
      "cell_type": "code",
      "metadata": {
        "id": "1Pes5f1rjCej",
        "colab_type": "code",
        "colab": {}
      },
      "source": [
        "class mute_cut:\n",
        "  # 依照聲音檔中的靜音來做切割\n",
        "\n",
        "  def __init__(self, path= \"\" ):\n",
        "      self.isfile = False\n",
        "      self.have_wav = False\n",
        "      self.path = path\n",
        "      if os.path.isfile(path ):\n",
        "        # 如果是檔案路徑\n",
        "        # 將檔案讀近來來做切割\n",
        "        self.isfile = True\n",
        "        if \".wav\" in path:\n",
        "          self.data = self.sound_split( path )\n",
        "          self.onename = (path.split(\"/\")[-1]).split(\".\")[0]\n",
        "          self.have_wav = True\n",
        "        else:\n",
        "          print(\"此路徑的檔案不是wav檔\")\n",
        "      elif os.path.isdir(path ):\n",
        "        # 如果是資料夾路徑\n",
        "        # 紀錄底下所有資料名稱\n",
        "        self.filename=[ x for x in os.listdir(path) if \".wav\" in x]\n",
        "        if len(self.filename) == 0:\n",
        "          print(\"此資料夾沒有wav檔\")\n",
        "        else:\n",
        "          self.have_wav = True\n",
        "      \n",
        "\n",
        "  def sound_split(self,filepath):\n",
        "      sound = AudioSegment.from_wav(filepath)\n",
        "      dBFS = sound.dBFS # 指定最大聲音\n",
        "      # print(dBFS)\n",
        "      chunks = split_on_silence(sound, \n",
        "          min_silence_len = 1000,\n",
        "          silence_thresh = dBFS-16)\n",
        "      return chunks\n",
        "\n",
        "  def output_cutting(self,path_to=\"\"):\n",
        "      if not self.have_wav :\n",
        "        print(\"沒有正確的資料進行分割\")\n",
        "        return None\n",
        "      if path_to == \"\":\n",
        "        path_to = \".\"\n",
        "      elif path_to != \"\" and not os.path.exists(path_to): \n",
        "        # 判斷目錄是否存在，不存在就建立檔案\n",
        "        os.makedirs(path_to)\n",
        "        \n",
        "      if self.isfile :\n",
        "        # 檔案路徑處理\n",
        "        for i in range(len(self.data)):\n",
        "          self.data[i].export( f\"{path_to}/{self.onename}_{i}.wav\", format=\"wav\")\n",
        "\n",
        "      else:\n",
        "        # 資夾路徑的處理\n",
        "        for i in range(len(self.filename)):\n",
        "          data = self.sound_split( self.path+\"/\"+self.filename[i])\n",
        "          name = (self.filename[i].split(\"/\")[-1]).split(\".\")[0]\n",
        "          for j in range(len(data)):\n",
        "            data[j].export( f\"{path_to}/{name}_{j}.wav\", format=\"wav\")\n",
        "\n"
      ],
      "execution_count": 44,
      "outputs": []
    },
    {
      "cell_type": "markdown",
      "metadata": {
        "id": "v18Fi2VpvOH5",
        "colab_type": "text"
      },
      "source": [
        "> 測試\n"
      ]
    },
    {
      "cell_type": "code",
      "metadata": {
        "id": "4d4SFv3jscaN",
        "colab_type": "code",
        "colab": {}
      },
      "source": [
        "temp  = mute_cut(\"/content/drive/My Drive/test_sound/貓(喵)老大打架_.wav\")\n",
        "temp.output_cutting(\"/content/drive/My Drive/test_sound/test\")"
      ],
      "execution_count": 45,
      "outputs": []
    },
    {
      "cell_type": "markdown",
      "metadata": {
        "id": "qd65dAsdjCez",
        "colab_type": "text"
      },
      "source": [
        "# 音檔固定長度切割"
      ]
    },
    {
      "cell_type": "code",
      "metadata": {
        "id": "5ZSWRRaujCez",
        "colab_type": "code",
        "colab": {}
      },
      "source": [
        "\n",
        "def create_data(path_from,path_to,item_len = 2000):\n",
        "    if path_from.endswith('.wav'):# 輸入的資料來源如果是.wav\n",
        "        files = [path_from]\n",
        "    else: # 輸入的資料來源如果是資料夾\n",
        "        files = os.listdir(path_from)\n",
        "        files = [f\"{path_from}/{ f}\" for f in files if f.endswith('.wav')]\n",
        "    if  not os.path.exists(path_to): # 判斷目錄是否存在，不存在就建立檔案\n",
        "        os.mkdir(path_to)\n",
        "    \n",
        "    for file in files:\n",
        "        file_name = \"\".join((file.split('/').pop()).split(\"_\")[:3])\n",
        "        file_name = file_name.split('.')[0]\n",
        "        audio = AudioSegment.from_file(file)\n",
        "        audio_len = len(audio)\n",
        "\n",
        "        steps = audio_len // item_len+1\n",
        "        for step in range(steps):\n",
        "            item_audio = audio[step * item_len:( (step + 1) * item_len if (step + 1) * item_len < audio_len else audio_len )]\n",
        "            save_audio = item_audio + AudioSegment.silent(item_len - len(item_audio))\n",
        "            new_path = f\"{path_to}/{file_name}_{step}.wav\"\n",
        "            save_audio.export( new_path)\n",
        "    \n",
        "    "
      ],
      "execution_count": 50,
      "outputs": []
    },
    {
      "cell_type": "markdown",
      "metadata": {
        "id": "0CXB5ucnylfQ",
        "colab_type": "text"
      },
      "source": [
        ">測試"
      ]
    },
    {
      "cell_type": "code",
      "metadata": {
        "id": "28pTi9DWjCe7",
        "colab_type": "code",
        "colab": {}
      },
      "source": [
        "path_from = \"/content/drive/My Drive/test_sound/貓(喵)老大打架_.wav\"\n",
        "path_to = \"/content/drive/My Drive/test_sound/test2\"\n",
        "create_data(path_from , path_to)"
      ],
      "execution_count": 51,
      "outputs": []
    }
  ]
}